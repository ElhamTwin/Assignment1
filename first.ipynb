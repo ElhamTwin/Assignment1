{
 "cells": [
  {
   "cell_type": "code",
   "id": "initial_id",
   "metadata": {
    "collapsed": true,
    "ExecuteTime": {
     "end_time": "2024-11-07T05:50:14.588220Z",
     "start_time": "2024-11-07T05:50:05.012526Z"
    }
   },
   "source": [
    "import numpy as np\n",
    "import pandas as pd\n",
    "df = pd.read_excel ('C:/Users/User/Desktop/insurance.xlsx')"
   ],
   "outputs": [],
   "execution_count": 4
  },
  {
   "metadata": {
    "ExecuteTime": {
     "end_time": "2024-11-07T05:50:23.713358Z",
     "start_time": "2024-11-07T05:50:14.890308Z"
    }
   },
   "cell_type": "code",
   "source": [
    "#  این سلول برای این است کهقسمتی از  دیتا رو چاپ کنیم و اطلاعات از دیتا بگیری\n",
    "print (df.head())\n",
    "print(\" Dataset info:\")\n",
    "print(df.info())\n",
    "print(\" Summary of statistics for numeric columns:\"  )\n",
    "print(df.describe())"
   ],
   "id": "422686127a24fca7",
   "outputs": [
    {
     "name": "stdout",
     "output_type": "stream",
     "text": [
      "   age     sex     bmi  children smoker     region      charges\n",
      "0   19  female  27.900         0    yes  southwest  16884.92400\n",
      "1   18    male  33.770         1     no  southeast   1725.55230\n",
      "2   28    male  33.000         3     no  southeast   4449.46200\n",
      "3   33    male  22.705         0     no  northwest  21984.47061\n",
      "4   32    male  28.880         0     no  northwest   3866.85520\n",
      " Dataset info:\n",
      "<class 'pandas.core.frame.DataFrame'>\n",
      "RangeIndex: 1338 entries, 0 to 1337\n",
      "Data columns (total 7 columns):\n",
      " #   Column    Non-Null Count  Dtype  \n",
      "---  ------    --------------  -----  \n",
      " 0   age       1338 non-null   int64  \n",
      " 1   sex       1338 non-null   object \n",
      " 2   bmi       1338 non-null   float64\n",
      " 3   children  1338 non-null   int64  \n",
      " 4   smoker    1338 non-null   object \n",
      " 5   region    1338 non-null   object \n",
      " 6   charges   1338 non-null   float64\n",
      "dtypes: float64(2), int64(2), object(3)\n",
      "memory usage: 73.3+ KB\n",
      "None\n",
      " Summary of statistics for numeric columns:\n",
      "               age          bmi     children       charges\n",
      "count  1338.000000  1338.000000  1338.000000   1338.000000\n",
      "mean     39.207025    30.663397     1.094918  13270.422265\n",
      "std      14.049960     6.098187     1.205493  12110.011237\n",
      "min      18.000000    15.960000     0.000000   1121.873900\n",
      "25%      27.000000    26.296250     0.000000   4740.287150\n",
      "50%      39.000000    30.400000     1.000000   9382.033000\n",
      "75%      51.000000    34.693750     2.000000  16639.912515\n",
      "max      64.000000    53.130000     5.000000  63770.428010\n"
     ]
    }
   ],
   "execution_count": 5
  },
  {
   "metadata": {
    "ExecuteTime": {
     "end_time": "2024-11-07T05:50:28.897391Z",
     "start_time": "2024-11-07T05:50:28.769310Z"
    }
   },
   "cell_type": "code",
   "source": [
    "# این جا دیتا های که کتگوری بودن رو تبدیل به دیتا درست یا غلط کردیم \n",
    "x = pd.DataFrame(df)\n",
    "print(\"original dataframe is \")\n",
    "print(x)\n",
    "df_encoded = pd.get_dummies(df, columns=['sex' , 'region' , 'smoker'] , prefix=['sex' , 'region' , 'smoker'])\n",
    "print (\" Dataframe after one_hot encoding :\")\n",
    "print(df_encoded )"
   ],
   "id": "e4fcb5eb3bda7c49",
   "outputs": [
    {
     "name": "stdout",
     "output_type": "stream",
     "text": [
      "original dataframe is \n",
      "      age     sex     bmi  children smoker     region      charges\n",
      "0      19  female  27.900         0    yes  southwest  16884.92400\n",
      "1      18    male  33.770         1     no  southeast   1725.55230\n",
      "2      28    male  33.000         3     no  southeast   4449.46200\n",
      "3      33    male  22.705         0     no  northwest  21984.47061\n",
      "4      32    male  28.880         0     no  northwest   3866.85520\n",
      "...   ...     ...     ...       ...    ...        ...          ...\n",
      "1333   50    male  30.970         3     no  northwest  10600.54830\n",
      "1334   18  female  31.920         0     no  northeast   2205.98080\n",
      "1335   18  female  36.850         0     no  southeast   1629.83350\n",
      "1336   21  female  25.800         0     no  southwest   2007.94500\n",
      "1337   61  female  29.070         0    yes  northwest  29141.36030\n",
      "\n",
      "[1338 rows x 7 columns]\n",
      " Dataframe after one_hot encoding :\n",
      "      age     bmi  children      charges  sex_female  sex_male  \\\n",
      "0      19  27.900         0  16884.92400        True     False   \n",
      "1      18  33.770         1   1725.55230       False      True   \n",
      "2      28  33.000         3   4449.46200       False      True   \n",
      "3      33  22.705         0  21984.47061       False      True   \n",
      "4      32  28.880         0   3866.85520       False      True   \n",
      "...   ...     ...       ...          ...         ...       ...   \n",
      "1333   50  30.970         3  10600.54830       False      True   \n",
      "1334   18  31.920         0   2205.98080        True     False   \n",
      "1335   18  36.850         0   1629.83350        True     False   \n",
      "1336   21  25.800         0   2007.94500        True     False   \n",
      "1337   61  29.070         0  29141.36030        True     False   \n",
      "\n",
      "      region_northeast  region_northwest  region_southeast  region_southwest  \\\n",
      "0                False             False             False              True   \n",
      "1                False             False              True             False   \n",
      "2                False             False              True             False   \n",
      "3                False              True             False             False   \n",
      "4                False              True             False             False   \n",
      "...                ...               ...               ...               ...   \n",
      "1333             False              True             False             False   \n",
      "1334              True             False             False             False   \n",
      "1335             False             False              True             False   \n",
      "1336             False             False             False              True   \n",
      "1337             False              True             False             False   \n",
      "\n",
      "      smoker_no  smoker_yes  \n",
      "0         False        True  \n",
      "1          True       False  \n",
      "2          True       False  \n",
      "3          True       False  \n",
      "4          True       False  \n",
      "...         ...         ...  \n",
      "1333       True       False  \n",
      "1334       True       False  \n",
      "1335       True       False  \n",
      "1336       True       False  \n",
      "1337      False        True  \n",
      "\n",
      "[1338 rows x 12 columns]\n"
     ]
    }
   ],
   "execution_count": 6
  },
  {
   "metadata": {
    "ExecuteTime": {
     "end_time": "2024-11-07T05:50:51.268671Z",
     "start_time": "2024-11-07T05:50:29.266390Z"
    }
   },
   "cell_type": "code",
   "source": [
    "#این جا دیتا رو استانداد سازی کردیم\n",
    "from sklearn.preprocessing  import StandardScaler\n",
    "scaler = StandardScaler()\n",
    "#دیتایی که بالا تبدیل کرده بودیم به درست یا غلط  رو این جا استفاده کردیم و استاندارد کردیم \n",
    "df_standardized = scaler.fit_transform(df_encoded)\n",
    "print(df_standardized)"
   ],
   "id": "17738ffeacf4ebb3",
   "outputs": [
    {
     "name": "stdout",
     "output_type": "stream",
     "text": [
      "[[-1.43876426 -0.45332    -0.90861367 ...  1.76548098 -1.97058663\n",
      "   1.97058663]\n",
      " [-1.50996545  0.5096211  -0.07876719 ... -0.56641788  0.5074631\n",
      "  -0.5074631 ]\n",
      " [-0.79795355  0.38330685  1.58092576 ... -0.56641788  0.5074631\n",
      "  -0.5074631 ]\n",
      " ...\n",
      " [-1.50996545  1.0148781  -0.90861367 ... -0.56641788  0.5074631\n",
      "  -0.5074631 ]\n",
      " [-1.29636188 -0.79781341 -0.90861367 ...  1.76548098  0.5074631\n",
      "  -0.5074631 ]\n",
      " [ 1.55168573 -0.26138796 -0.90861367 ... -0.56641788 -1.97058663\n",
      "   1.97058663]]\n"
     ]
    }
   ],
   "execution_count": 7
  },
  {
   "metadata": {
    "ExecuteTime": {
     "end_time": "2024-11-07T05:50:51.810276Z",
     "start_time": "2024-11-07T05:50:51.667954Z"
    }
   },
   "cell_type": "code",
   "source": [
    "#این جا دیتا رو نرمالایز می کنیم \n",
    "from sklearn.preprocessing import MinMaxScaler\n",
    "scaler = MinMaxScaler()\n",
    "df_normalized = scaler.fit_transform(df_encoded )\n",
    "print(df_normalized)"
   ],
   "id": "c95b6991f8820a0a",
   "outputs": [
    {
     "name": "stdout",
     "output_type": "stream",
     "text": [
      "[[0.02173913 0.3212268  0.         ... 1.         0.         1.        ]\n",
      " [0.         0.47914985 0.2        ... 0.         1.         0.        ]\n",
      " [0.2173913  0.45843422 0.6        ... 0.         1.         0.        ]\n",
      " ...\n",
      " [0.         0.56201238 0.         ... 0.         1.         0.        ]\n",
      " [0.06521739 0.26472962 0.         ... 1.         1.         0.        ]\n",
      " [0.93478261 0.35270379 0.         ... 0.         0.         1.        ]]\n"
     ]
    }
   ],
   "execution_count": 8
  },
  {
   "metadata": {
    "ExecuteTime": {
     "end_time": "2024-11-07T05:50:52.118259Z",
     "start_time": "2024-11-07T05:50:51.901307Z"
    }
   },
   "cell_type": "code",
   "source": [
    "X= df.drop('charges' ,axis=1)\n",
    " \n",
    "print(X)\n",
    "Y = df['charges']\n",
    " \n",
    "print(Y)"
   ],
   "id": "a083ed474f856298",
   "outputs": [
    {
     "name": "stdout",
     "output_type": "stream",
     "text": [
      "      age     sex     bmi  children smoker     region\n",
      "0      19  female  27.900         0    yes  southwest\n",
      "1      18    male  33.770         1     no  southeast\n",
      "2      28    male  33.000         3     no  southeast\n",
      "3      33    male  22.705         0     no  northwest\n",
      "4      32    male  28.880         0     no  northwest\n",
      "...   ...     ...     ...       ...    ...        ...\n",
      "1333   50    male  30.970         3     no  northwest\n",
      "1334   18  female  31.920         0     no  northeast\n",
      "1335   18  female  36.850         0     no  southeast\n",
      "1336   21  female  25.800         0     no  southwest\n",
      "1337   61  female  29.070         0    yes  northwest\n",
      "\n",
      "[1338 rows x 6 columns]\n",
      "0       16884.92400\n",
      "1        1725.55230\n",
      "2        4449.46200\n",
      "3       21984.47061\n",
      "4        3866.85520\n",
      "           ...     \n",
      "1333    10600.54830\n",
      "1334     2205.98080\n",
      "1335     1629.83350\n",
      "1336     2007.94500\n",
      "1337    29141.36030\n",
      "Name: charges, Length: 1338, dtype: float64\n"
     ]
    }
   ],
   "execution_count": 9
  },
  {
   "metadata": {
    "ExecuteTime": {
     "end_time": "2024-11-07T05:50:52.821826Z",
     "start_time": "2024-11-07T05:50:52.353984Z"
    }
   },
   "cell_type": "code",
   "source": [
    "X = np.array([19.0,female,27.9 ,0 ,yes , southwest])\n",
    "Y = np.array (16884.92)"
   ],
   "id": "1a09edf3b83ee64c",
   "outputs": [
    {
     "ename": "NameError",
     "evalue": "name 'female' is not defined",
     "output_type": "error",
     "traceback": [
      "\u001B[1;31m---------------------------------------------------------------------------\u001B[0m",
      "\u001B[1;31mNameError\u001B[0m                                 Traceback (most recent call last)",
      "Cell \u001B[1;32mIn[10], line 1\u001B[0m\n\u001B[1;32m----> 1\u001B[0m X \u001B[38;5;241m=\u001B[39m np\u001B[38;5;241m.\u001B[39marray([\u001B[38;5;241m19.0\u001B[39m,\u001B[43mfemale\u001B[49m,\u001B[38;5;241m27.9\u001B[39m ,\u001B[38;5;241m0\u001B[39m ,yes , southwest])\n\u001B[0;32m      2\u001B[0m Y \u001B[38;5;241m=\u001B[39m np\u001B[38;5;241m.\u001B[39marray (\u001B[38;5;241m16884.92\u001B[39m)\n",
      "\u001B[1;31mNameError\u001B[0m: name 'female' is not defined"
     ]
    }
   ],
   "execution_count": 10
  },
  {
   "metadata": {
    "ExecuteTime": {
     "end_time": "2024-11-07T05:50:52.835844200Z",
     "start_time": "2024-11-06T18:13:09.974356Z"
    }
   },
   "cell_type": "code",
   "source": [
    "# این جا دیتا تست و آموزش رو از هم جدا کردیم \n",
    "from sklearn.model_selection import train_test_split\n",
    "\n",
    "# Split data into train and test sets\n",
    "X_train, X_test, Y_train, Y_test = train_test_split(X, Y, test_size=0.2, random_state=42)\n",
    "\n",
    "print(\"Training Features (X_train):\")\n",
    "print(X_train)\n",
    "print(\"\\nTesting Features (X_test):\")\n",
    "print(X_test)\n",
    "print(\"\\nTraining Target (y_train):\")\n",
    "print(Y_train)\n",
    "print(\"\\nTesting Target (y_test):\")\n",
    "print(Y_test)\n",
    "\n"
   ],
   "id": "a40f255b0a4972a2",
   "outputs": [
    {
     "name": "stdout",
     "output_type": "stream",
     "text": [
      "Training Features (X_train):\n",
      "      age     sex     bmi  children smoker     region\n",
      "560    46  female  19.950         2     no  northwest\n",
      "1285   47  female  24.320         0     no  northeast\n",
      "1142   52  female  24.860         0     no  southeast\n",
      "969    39  female  34.320         5     no  southeast\n",
      "486    54  female  21.470         3     no  northwest\n",
      "...   ...     ...     ...       ...    ...        ...\n",
      "1095   18  female  31.350         4     no  northeast\n",
      "1130   39  female  23.870         5     no  southeast\n",
      "1294   58    male  25.175         0     no  northeast\n",
      "860    37  female  47.600         2    yes  southwest\n",
      "1126   55    male  29.900         0     no  southwest\n",
      "\n",
      "[1070 rows x 6 columns]\n",
      "\n",
      "Testing Features (X_test):\n",
      "      age     sex     bmi  children smoker     region\n",
      "764    45  female  25.175         2     no  northeast\n",
      "887    36  female  30.020         0     no  northwest\n",
      "890    64  female  26.885         0    yes  northwest\n",
      "1293   46    male  25.745         3     no  northwest\n",
      "259    19    male  31.920         0    yes  northwest\n",
      "...   ...     ...     ...       ...    ...        ...\n",
      "109    63    male  35.090         0    yes  southeast\n",
      "575    58  female  27.170         0     no  northwest\n",
      "535    38    male  28.025         1     no  northeast\n",
      "543    54  female  47.410         0    yes  southeast\n",
      "846    51  female  34.200         1     no  southwest\n",
      "\n",
      "[268 rows x 6 columns]\n",
      "\n",
      "Training Target (y_train):\n",
      "560      9193.83850\n",
      "1285     8534.67180\n",
      "1142    27117.99378\n",
      "969      8596.82780\n",
      "486     12475.35130\n",
      "           ...     \n",
      "1095     4561.18850\n",
      "1130     8582.30230\n",
      "1294    11931.12525\n",
      "860     46113.51100\n",
      "1126    10214.63600\n",
      "Name: charges, Length: 1070, dtype: float64\n",
      "\n",
      "Testing Target (y_test):\n",
      "764      9095.06825\n",
      "887      5272.17580\n",
      "890     29330.98315\n",
      "1293     9301.89355\n",
      "259     33750.29180\n",
      "           ...     \n",
      "109     47055.53210\n",
      "575     12222.89830\n",
      "535      6067.12675\n",
      "543     63770.42801\n",
      "846      9872.70100\n",
      "Name: charges, Length: 268, dtype: float64\n"
     ]
    }
   ],
   "execution_count": 18
  },
  {
   "metadata": {
    "ExecuteTime": {
     "end_time": "2024-11-07T05:50:52.836841900Z",
     "start_time": "2024-11-06T19:07:18.837013Z"
    }
   },
   "cell_type": "code",
   "source": [
    "\n",
    "# تابع هزینه (میانگین مربعات خطا)\n",
    "def compute_cost(X, Y, theta):\n",
    "    m = len(Y)\n",
    "    predictions = X.dot(theta)\n",
    "    cost = (1/(2*m)) * np.sum(np.square(predictions - Y))\n",
    "    return cost\n",
    "\n",
    "# گرادیان کاهشی\n",
    "def gradient_descent(X, Y, theta, alpha, num_iters):\n",
    "    m = len(Y)\n",
    "    cost_history = np.zeros(num_iters)\n",
    "   \n",
    "    for i in range(num_iters):\n",
    "        gradients = (1/m) * X.T.dot(X.dot(theta) - Y)\n",
    "        theta -= alpha * gradients\n",
    "        cost_history[i] = compute_cost(X, Y, theta)\n",
    "       \n",
    "    return theta, cost_history\n",
    "theta = np.zeros(X.shape[1])\n",
    "alpha = 0.1\n",
    "num_iters = 1000\n",
    "theta, cost_history = gradient_descent(X, Y, theta, alpha, num_iters)\n",
    "print(\"Theta (پارامترهای مدل):\", theta)"
   ],
   "id": "3307122a72d3f10d",
   "outputs": [
    {
     "ename": "TypeError",
     "evalue": "can't multiply sequence by non-int of type 'float'",
     "output_type": "error",
     "traceback": [
      "\u001B[1;31m---------------------------------------------------------------------------\u001B[0m",
      "\u001B[1;31mTypeError\u001B[0m                                 Traceback (most recent call last)",
      "\u001B[1;32m~\\AppData\\Local\\Temp\\ipykernel_8132\\3688879.py\u001B[0m in \u001B[0;36m?\u001B[1;34m()\u001B[0m\n\u001B[0;32m     18\u001B[0m     \u001B[1;32mreturn\u001B[0m \u001B[0mtheta\u001B[0m\u001B[1;33m,\u001B[0m \u001B[0mcost_history\u001B[0m\u001B[1;33m\u001B[0m\u001B[1;33m\u001B[0m\u001B[0m\n\u001B[0;32m     19\u001B[0m \u001B[0mtheta\u001B[0m \u001B[1;33m=\u001B[0m \u001B[0mnp\u001B[0m\u001B[1;33m.\u001B[0m\u001B[0mzeros\u001B[0m\u001B[1;33m(\u001B[0m\u001B[0mX\u001B[0m\u001B[1;33m.\u001B[0m\u001B[0mshape\u001B[0m\u001B[1;33m[\u001B[0m\u001B[1;36m1\u001B[0m\u001B[1;33m]\u001B[0m\u001B[1;33m)\u001B[0m\u001B[1;33m\u001B[0m\u001B[1;33m\u001B[0m\u001B[0m\n\u001B[0;32m     20\u001B[0m \u001B[0malpha\u001B[0m \u001B[1;33m=\u001B[0m \u001B[1;36m0.1\u001B[0m\u001B[1;33m\u001B[0m\u001B[1;33m\u001B[0m\u001B[0m\n\u001B[0;32m     21\u001B[0m \u001B[0mnum_iters\u001B[0m \u001B[1;33m=\u001B[0m \u001B[1;36m1000\u001B[0m\u001B[1;33m\u001B[0m\u001B[1;33m\u001B[0m\u001B[0m\n\u001B[1;32m---> 22\u001B[1;33m \u001B[0mtheta\u001B[0m\u001B[1;33m,\u001B[0m \u001B[0mcost_history\u001B[0m \u001B[1;33m=\u001B[0m \u001B[0mgradient_descent\u001B[0m\u001B[1;33m(\u001B[0m\u001B[0mX\u001B[0m\u001B[1;33m,\u001B[0m \u001B[0mY\u001B[0m\u001B[1;33m,\u001B[0m \u001B[0mtheta\u001B[0m\u001B[1;33m,\u001B[0m \u001B[0malpha\u001B[0m\u001B[1;33m,\u001B[0m \u001B[0mnum_iters\u001B[0m\u001B[1;33m)\u001B[0m\u001B[1;33m\u001B[0m\u001B[1;33m\u001B[0m\u001B[0m\n\u001B[0m\u001B[0;32m     23\u001B[0m \u001B[0mprint\u001B[0m\u001B[1;33m(\u001B[0m\u001B[1;34m\"Theta (پارامترهای مدل):\"\u001B[0m\u001B[1;33m,\u001B[0m \u001B[0mtheta\u001B[0m\u001B[1;33m)\u001B[0m\u001B[1;33m\u001B[0m\u001B[1;33m\u001B[0m\u001B[0m\n",
      "\u001B[1;32m~\\AppData\\Local\\Temp\\ipykernel_8132\\3688879.py\u001B[0m in \u001B[0;36m?\u001B[1;34m(X, Y, theta, alpha, num_iters)\u001B[0m\n\u001B[0;32m     10\u001B[0m     \u001B[0mm\u001B[0m \u001B[1;33m=\u001B[0m \u001B[0mlen\u001B[0m\u001B[1;33m(\u001B[0m\u001B[0mY\u001B[0m\u001B[1;33m)\u001B[0m\u001B[1;33m\u001B[0m\u001B[1;33m\u001B[0m\u001B[0m\n\u001B[0;32m     11\u001B[0m     \u001B[0mcost_history\u001B[0m \u001B[1;33m=\u001B[0m \u001B[0mnp\u001B[0m\u001B[1;33m.\u001B[0m\u001B[0mzeros\u001B[0m\u001B[1;33m(\u001B[0m\u001B[0mnum_iters\u001B[0m\u001B[1;33m)\u001B[0m\u001B[1;33m\u001B[0m\u001B[1;33m\u001B[0m\u001B[0m\n\u001B[0;32m     12\u001B[0m \u001B[1;33m\u001B[0m\u001B[0m\n\u001B[0;32m     13\u001B[0m     \u001B[1;32mfor\u001B[0m \u001B[0mi\u001B[0m \u001B[1;32min\u001B[0m \u001B[0mrange\u001B[0m\u001B[1;33m(\u001B[0m\u001B[0mnum_iters\u001B[0m\u001B[1;33m)\u001B[0m\u001B[1;33m:\u001B[0m\u001B[1;33m\u001B[0m\u001B[1;33m\u001B[0m\u001B[0m\n\u001B[1;32m---> 14\u001B[1;33m         \u001B[0mgradients\u001B[0m \u001B[1;33m=\u001B[0m \u001B[1;33m(\u001B[0m\u001B[1;36m1\u001B[0m\u001B[1;33m/\u001B[0m\u001B[0mm\u001B[0m\u001B[1;33m)\u001B[0m \u001B[1;33m*\u001B[0m \u001B[0mX\u001B[0m\u001B[1;33m.\u001B[0m\u001B[0mT\u001B[0m\u001B[1;33m.\u001B[0m\u001B[0mdot\u001B[0m\u001B[1;33m(\u001B[0m\u001B[0mX\u001B[0m\u001B[1;33m.\u001B[0m\u001B[0mdot\u001B[0m\u001B[1;33m(\u001B[0m\u001B[0mtheta\u001B[0m\u001B[1;33m)\u001B[0m \u001B[1;33m-\u001B[0m \u001B[0mY\u001B[0m\u001B[1;33m)\u001B[0m\u001B[1;33m\u001B[0m\u001B[1;33m\u001B[0m\u001B[0m\n\u001B[0m\u001B[0;32m     15\u001B[0m         \u001B[0mtheta\u001B[0m \u001B[1;33m-=\u001B[0m \u001B[0malpha\u001B[0m \u001B[1;33m*\u001B[0m \u001B[0mgradients\u001B[0m\u001B[1;33m\u001B[0m\u001B[1;33m\u001B[0m\u001B[0m\n\u001B[0;32m     16\u001B[0m         \u001B[0mcost_history\u001B[0m\u001B[1;33m[\u001B[0m\u001B[0mi\u001B[0m\u001B[1;33m]\u001B[0m \u001B[1;33m=\u001B[0m \u001B[0mcompute_cost\u001B[0m\u001B[1;33m(\u001B[0m\u001B[0mX\u001B[0m\u001B[1;33m,\u001B[0m \u001B[0mY\u001B[0m\u001B[1;33m,\u001B[0m \u001B[0mtheta\u001B[0m\u001B[1;33m)\u001B[0m\u001B[1;33m\u001B[0m\u001B[1;33m\u001B[0m\u001B[0m\n\u001B[0;32m     17\u001B[0m \u001B[1;33m\u001B[0m\u001B[0m\n",
      "\u001B[1;32m~\\AppData\\Local\\Programs\\Python\\Python312\\Lib\\site-packages\\pandas\\core\\frame.py\u001B[0m in \u001B[0;36m?\u001B[1;34m(self, other)\u001B[0m\n\u001B[0;32m   1763\u001B[0m             return self._constructor_sliced(\n\u001B[0;32m   1764\u001B[0m                 \u001B[0mnp\u001B[0m\u001B[1;33m.\u001B[0m\u001B[0mdot\u001B[0m\u001B[1;33m(\u001B[0m\u001B[0mlvals\u001B[0m\u001B[1;33m,\u001B[0m \u001B[0mrvals\u001B[0m\u001B[1;33m)\u001B[0m\u001B[1;33m,\u001B[0m \u001B[0mindex\u001B[0m\u001B[1;33m=\u001B[0m\u001B[0mleft\u001B[0m\u001B[1;33m.\u001B[0m\u001B[0mindex\u001B[0m\u001B[1;33m,\u001B[0m \u001B[0mcopy\u001B[0m\u001B[1;33m=\u001B[0m\u001B[1;32mFalse\u001B[0m\u001B[1;33m,\u001B[0m \u001B[0mdtype\u001B[0m\u001B[1;33m=\u001B[0m\u001B[0mcommon_type\u001B[0m\u001B[1;33m\u001B[0m\u001B[1;33m\u001B[0m\u001B[0m\n\u001B[0;32m   1765\u001B[0m             \u001B[1;33m)\u001B[0m\u001B[1;33m\u001B[0m\u001B[1;33m\u001B[0m\u001B[0m\n\u001B[0;32m   1766\u001B[0m         \u001B[1;32melif\u001B[0m \u001B[0misinstance\u001B[0m\u001B[1;33m(\u001B[0m\u001B[0mrvals\u001B[0m\u001B[1;33m,\u001B[0m \u001B[1;33m(\u001B[0m\u001B[0mnp\u001B[0m\u001B[1;33m.\u001B[0m\u001B[0mndarray\u001B[0m\u001B[1;33m,\u001B[0m \u001B[0mIndex\u001B[0m\u001B[1;33m)\u001B[0m\u001B[1;33m)\u001B[0m\u001B[1;33m:\u001B[0m\u001B[1;33m\u001B[0m\u001B[1;33m\u001B[0m\u001B[0m\n\u001B[1;32m-> 1767\u001B[1;33m             \u001B[0mresult\u001B[0m \u001B[1;33m=\u001B[0m \u001B[0mnp\u001B[0m\u001B[1;33m.\u001B[0m\u001B[0mdot\u001B[0m\u001B[1;33m(\u001B[0m\u001B[0mlvals\u001B[0m\u001B[1;33m,\u001B[0m \u001B[0mrvals\u001B[0m\u001B[1;33m)\u001B[0m\u001B[1;33m\u001B[0m\u001B[1;33m\u001B[0m\u001B[0m\n\u001B[0m\u001B[0;32m   1768\u001B[0m             \u001B[1;32mif\u001B[0m \u001B[0mresult\u001B[0m\u001B[1;33m.\u001B[0m\u001B[0mndim\u001B[0m \u001B[1;33m==\u001B[0m \u001B[1;36m2\u001B[0m\u001B[1;33m:\u001B[0m\u001B[1;33m\u001B[0m\u001B[1;33m\u001B[0m\u001B[0m\n\u001B[0;32m   1769\u001B[0m                 \u001B[1;32mreturn\u001B[0m \u001B[0mself\u001B[0m\u001B[1;33m.\u001B[0m\u001B[0m_constructor\u001B[0m\u001B[1;33m(\u001B[0m\u001B[0mresult\u001B[0m\u001B[1;33m,\u001B[0m \u001B[0mindex\u001B[0m\u001B[1;33m=\u001B[0m\u001B[0mleft\u001B[0m\u001B[1;33m.\u001B[0m\u001B[0mindex\u001B[0m\u001B[1;33m,\u001B[0m \u001B[0mcopy\u001B[0m\u001B[1;33m=\u001B[0m\u001B[1;32mFalse\u001B[0m\u001B[1;33m)\u001B[0m\u001B[1;33m\u001B[0m\u001B[1;33m\u001B[0m\u001B[0m\n\u001B[0;32m   1770\u001B[0m             \u001B[1;32melse\u001B[0m\u001B[1;33m:\u001B[0m\u001B[1;33m\u001B[0m\u001B[1;33m\u001B[0m\u001B[0m\n",
      "\u001B[1;31mTypeError\u001B[0m: can't multiply sequence by non-int of type 'float'"
     ]
    }
   ],
   "execution_count": 37
  },
  {
   "metadata": {
    "ExecuteTime": {
     "end_time": "2024-11-07T05:50:52.879853600Z",
     "start_time": "2024-11-06T19:09:52.069180Z"
    }
   },
   "cell_type": "code",
   "source": [
    "theta = np.linalg.inv(X.T @ X) @ X.T @ y\n",
    "print(\"Theta (پارامترهای مدل با معادله نرمال):\", theta)\n",
    "\n"
   ],
   "id": "611caa391c487881",
   "outputs": [
    {
     "ename": "TypeError",
     "evalue": "can't multiply sequence by non-int of type 'str'",
     "output_type": "error",
     "traceback": [
      "\u001B[1;31m---------------------------------------------------------------------------\u001B[0m",
      "\u001B[1;31mTypeError\u001B[0m                                 Traceback (most recent call last)",
      "\u001B[1;32m~\\AppData\\Local\\Temp\\ipykernel_8132\\2850642068.py\u001B[0m in \u001B[0;36m?\u001B[1;34m()\u001B[0m\n\u001B[1;32m----> 1\u001B[1;33m \u001B[0mtheta\u001B[0m \u001B[1;33m=\u001B[0m \u001B[0mnp\u001B[0m\u001B[1;33m.\u001B[0m\u001B[0mlinalg\u001B[0m\u001B[1;33m.\u001B[0m\u001B[0minv\u001B[0m\u001B[1;33m(\u001B[0m\u001B[0mX\u001B[0m\u001B[1;33m.\u001B[0m\u001B[0mT\u001B[0m \u001B[1;33m@\u001B[0m \u001B[0mX\u001B[0m\u001B[1;33m)\u001B[0m \u001B[1;33m@\u001B[0m \u001B[0mX\u001B[0m\u001B[1;33m.\u001B[0m\u001B[0mT\u001B[0m \u001B[1;33m@\u001B[0m \u001B[0my\u001B[0m\u001B[1;33m\u001B[0m\u001B[1;33m\u001B[0m\u001B[0m\n\u001B[0m\u001B[0;32m      2\u001B[0m \u001B[0mprint\u001B[0m\u001B[1;33m(\u001B[0m\u001B[1;34m\"Theta (پارامترهای مدل با معادله نرمال):\"\u001B[0m\u001B[1;33m,\u001B[0m \u001B[0mtheta\u001B[0m\u001B[1;33m)\u001B[0m\u001B[1;33m\u001B[0m\u001B[1;33m\u001B[0m\u001B[0m\n\u001B[0;32m      3\u001B[0m \u001B[1;33m\u001B[0m\u001B[0m\n\u001B[0;32m      4\u001B[0m \u001B[1;33m\u001B[0m\u001B[0m\n",
      "\u001B[1;32m~\\AppData\\Local\\Programs\\Python\\Python312\\Lib\\site-packages\\pandas\\core\\frame.py\u001B[0m in \u001B[0;36m?\u001B[1;34m(self, other)\u001B[0m\n\u001B[0;32m   1783\u001B[0m     \u001B[1;32mdef\u001B[0m \u001B[0m__matmul__\u001B[0m\u001B[1;33m(\u001B[0m\u001B[0mself\u001B[0m\u001B[1;33m,\u001B[0m \u001B[0mother\u001B[0m\u001B[1;33m:\u001B[0m \u001B[0mAnyArrayLike\u001B[0m \u001B[1;33m|\u001B[0m \u001B[0mDataFrame\u001B[0m\u001B[1;33m)\u001B[0m \u001B[1;33m->\u001B[0m \u001B[0mDataFrame\u001B[0m \u001B[1;33m|\u001B[0m \u001B[0mSeries\u001B[0m\u001B[1;33m:\u001B[0m\u001B[1;33m\u001B[0m\u001B[1;33m\u001B[0m\u001B[0m\n\u001B[0;32m   1784\u001B[0m         \"\"\"\n\u001B[0;32m   1785\u001B[0m         \u001B[0mMatrix\u001B[0m \u001B[0mmultiplication\u001B[0m \u001B[0musing\u001B[0m \u001B[0mbinary\u001B[0m \u001B[1;33m`\u001B[0m\u001B[1;33m@\u001B[0m\u001B[1;33m`\u001B[0m \u001B[0moperator\u001B[0m\u001B[1;33m.\u001B[0m\u001B[1;33m\u001B[0m\u001B[1;33m\u001B[0m\u001B[0m\n\u001B[0;32m   1786\u001B[0m         \"\"\"\n\u001B[1;32m-> 1787\u001B[1;33m         \u001B[1;32mreturn\u001B[0m \u001B[0mself\u001B[0m\u001B[1;33m.\u001B[0m\u001B[0mdot\u001B[0m\u001B[1;33m(\u001B[0m\u001B[0mother\u001B[0m\u001B[1;33m)\u001B[0m\u001B[1;33m\u001B[0m\u001B[1;33m\u001B[0m\u001B[0m\n\u001B[0m",
      "\u001B[1;32m~\\AppData\\Local\\Programs\\Python\\Python312\\Lib\\site-packages\\pandas\\core\\frame.py\u001B[0m in \u001B[0;36m?\u001B[1;34m(self, other)\u001B[0m\n\u001B[0;32m   1751\u001B[0m \u001B[1;33m\u001B[0m\u001B[0m\n\u001B[0;32m   1752\u001B[0m         \u001B[1;32mif\u001B[0m \u001B[0misinstance\u001B[0m\u001B[1;33m(\u001B[0m\u001B[0mother\u001B[0m\u001B[1;33m,\u001B[0m \u001B[0mDataFrame\u001B[0m\u001B[1;33m)\u001B[0m\u001B[1;33m:\u001B[0m\u001B[1;33m\u001B[0m\u001B[1;33m\u001B[0m\u001B[0m\n\u001B[0;32m   1753\u001B[0m             \u001B[0mcommon_type\u001B[0m \u001B[1;33m=\u001B[0m \u001B[0mfind_common_type\u001B[0m\u001B[1;33m(\u001B[0m\u001B[0mlist\u001B[0m\u001B[1;33m(\u001B[0m\u001B[0mself\u001B[0m\u001B[1;33m.\u001B[0m\u001B[0mdtypes\u001B[0m\u001B[1;33m)\u001B[0m \u001B[1;33m+\u001B[0m \u001B[0mlist\u001B[0m\u001B[1;33m(\u001B[0m\u001B[0mother\u001B[0m\u001B[1;33m.\u001B[0m\u001B[0mdtypes\u001B[0m\u001B[1;33m)\u001B[0m\u001B[1;33m)\u001B[0m\u001B[1;33m\u001B[0m\u001B[1;33m\u001B[0m\u001B[0m\n\u001B[0;32m   1754\u001B[0m             return self._constructor(\n\u001B[1;32m-> 1755\u001B[1;33m                 \u001B[0mnp\u001B[0m\u001B[1;33m.\u001B[0m\u001B[0mdot\u001B[0m\u001B[1;33m(\u001B[0m\u001B[0mlvals\u001B[0m\u001B[1;33m,\u001B[0m \u001B[0mrvals\u001B[0m\u001B[1;33m)\u001B[0m\u001B[1;33m,\u001B[0m\u001B[1;33m\u001B[0m\u001B[1;33m\u001B[0m\u001B[0m\n\u001B[0m\u001B[0;32m   1756\u001B[0m                 \u001B[0mindex\u001B[0m\u001B[1;33m=\u001B[0m\u001B[0mleft\u001B[0m\u001B[1;33m.\u001B[0m\u001B[0mindex\u001B[0m\u001B[1;33m,\u001B[0m\u001B[1;33m\u001B[0m\u001B[1;33m\u001B[0m\u001B[0m\n\u001B[0;32m   1757\u001B[0m                 \u001B[0mcolumns\u001B[0m\u001B[1;33m=\u001B[0m\u001B[0mother\u001B[0m\u001B[1;33m.\u001B[0m\u001B[0mcolumns\u001B[0m\u001B[1;33m,\u001B[0m\u001B[1;33m\u001B[0m\u001B[1;33m\u001B[0m\u001B[0m\n\u001B[0;32m   1758\u001B[0m                 \u001B[0mcopy\u001B[0m\u001B[1;33m=\u001B[0m\u001B[1;32mFalse\u001B[0m\u001B[1;33m,\u001B[0m\u001B[1;33m\u001B[0m\u001B[1;33m\u001B[0m\u001B[0m\n",
      "\u001B[1;31mTypeError\u001B[0m: can't multiply sequence by non-int of type 'str'"
     ]
    }
   ],
   "execution_count": 38
  },
  {
   "metadata": {
    "ExecuteTime": {
     "end_time": "2024-11-07T05:50:52.880855800Z",
     "start_time": "2024-11-07T05:49:50.569729Z"
    }
   },
   "cell_type": "code",
   "source": [
    "# تابع وزن‌دهی گاوسی\n",
    "def get_weights(X, x_query, tau):\n",
    "    m = X.shape[0]\n",
    "    W = np.eye(m)\n",
    "    for i in range(m):\n",
    "        diff = X[i] - x_query\n",
    "        W[i, i] = np.exp(-diff.dot(diff) / (2 * tau ** 2))\n",
    "    return W\n",
    "\n",
    "# تابع رگرسیون محلی\n",
    "def locally_weighted_regression(X, Y, x_query, tau):\n",
    "    X_b = np.c_[np.ones((X.shape[0], 1)), X]  # اضافه کردن ستون بایاس\n",
    "    x_query_b = np.r_[1, x_query]  # اضافه کردن ستون بایاس برای نقطه پیش‌بینی\n",
    "    W = get_weights(X_b, x_query_b, tau)\n",
    "    theta = np.linalg.inv(X_b.T @ W @ X_b) @ X_b.T @ W @ y\n",
    "    return x_query_b @ theta\n",
    "\n",
    "x_query = np.array([2.5])  # نقطه‌ای که می‌خواهیم برای آن پیش‌بینی کنیم\n",
    "tau = 0.5  # پارامتر پهنا (تنظیم شعاع تأثیر نقاط نزدیک)\n",
    "\n",
    "prediction = locally_weighted_regression(X, y, x_query, tau)\n",
    "print(\"پیش‌بینی برای x_query:\", prediction)"
   ],
   "id": "c351845494f02c02",
   "outputs": [
    {
     "ename": "NameError",
     "evalue": "name 'X' is not defined",
     "output_type": "error",
     "traceback": [
      "\u001B[1;31m---------------------------------------------------------------------------\u001B[0m",
      "\u001B[1;31mNameError\u001B[0m                                 Traceback (most recent call last)",
      "Cell \u001B[1;32mIn[3], line 21\u001B[0m\n\u001B[0;32m     18\u001B[0m x_query \u001B[38;5;241m=\u001B[39m np\u001B[38;5;241m.\u001B[39marray([\u001B[38;5;241m2.5\u001B[39m])  \u001B[38;5;66;03m# نقطه‌ای که می‌خواهیم برای آن پیش‌بینی کنیم\u001B[39;00m\n\u001B[0;32m     19\u001B[0m tau \u001B[38;5;241m=\u001B[39m \u001B[38;5;241m0.5\u001B[39m  \u001B[38;5;66;03m# پارامتر پهنا (تنظیم شعاع تأثیر نقاط نزدیک)\u001B[39;00m\n\u001B[1;32m---> 21\u001B[0m prediction \u001B[38;5;241m=\u001B[39m locally_weighted_regression(\u001B[43mX\u001B[49m, y, x_query, tau)\n\u001B[0;32m     22\u001B[0m \u001B[38;5;28mprint\u001B[39m(\u001B[38;5;124m\"\u001B[39m\u001B[38;5;124mپیش‌بینی برای x_query:\u001B[39m\u001B[38;5;124m\"\u001B[39m, prediction)\n",
      "\u001B[1;31mNameError\u001B[0m: name 'X' is not defined"
     ]
    }
   ],
   "execution_count": 3
  }
 ],
 "metadata": {
  "kernelspec": {
   "display_name": "Python 3",
   "language": "python",
   "name": "python3"
  },
  "language_info": {
   "codemirror_mode": {
    "name": "ipython",
    "version": 2
   },
   "file_extension": ".py",
   "mimetype": "text/x-python",
   "name": "python",
   "nbconvert_exporter": "python",
   "pygments_lexer": "ipython2",
   "version": "2.7.6"
  }
 },
 "nbformat": 4,
 "nbformat_minor": 5
}
